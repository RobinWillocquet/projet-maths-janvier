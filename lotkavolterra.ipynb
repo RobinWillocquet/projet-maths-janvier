{
 "cells": [
  {
   "cell_type": "markdown",
   "metadata": {},
   "source": [
    "# Equations de Lotka-Volterra"
   ]
  },
  {
   "cell_type": "markdown",
   "metadata": {},
   "source": [
    "## Importation des modules nécessaires"
   ]
  },
  {
   "cell_type": "markdown",
   "metadata": {},
   "source": [
    "Nous allons d'abord commencer par importer les différents modules dont nous aurons besoin pour simuler ces solutions."
   ]
  },
  {
   "cell_type": "code",
   "execution_count": 1,
   "metadata": {},
   "outputs": [],
   "source": [
    "import numpy as np\n",
    "import matplotlib.pyplot as plt\n",
    "import autograd as atg"
   ]
  },
  {
   "cell_type": "markdown",
   "metadata": {},
   "source": [
    "Puis, nous allons aussi importer la fonction `display_contour` que nous avons vue dans le projet d'octobre : celle-ci sera fort utile pour la question 5 !"
   ]
  },
  {
   "cell_type": "code",
   "execution_count": 2,
   "metadata": {},
   "outputs": [],
   "source": [
    "plt.rcParams['figure.figsize'] = [10, 10]\n",
    "from IPython.display import display\n",
    "\n",
    "def display_contour(f, x, y, levels):\n",
    "    X, Y = np.meshgrid(x, y)\n",
    "    Z = f(X, Y)\n",
    "    fig, ax = plt.subplots()\n",
    "    contour_set = plt.contour(\n",
    "        X, Y, Z, cmap = 'inferno', \n",
    "        levels=levels \n",
    "    )\n",
    "    ax.clabel(contour_set)\n",
    "    plt.grid(True)\n",
    "    plt.xlabel(\"$x_1$\") \n",
    "    plt.ylabel(\"$x_2$\")\n",
    "    plt.gca().set_aspect(\"equal\")"
   ]
  },
  {
   "cell_type": "markdown",
   "metadata": {},
   "source": [
    "## Points d'équilibre, domaine maximal et stabilité"
   ]
  },
  {
   "cell_type": "markdown",
   "metadata": {},
   "source": [
    "### Les équations de Lotka-Volterra"
   ]
  },
  {
   "cell_type": "markdown",
   "metadata": {},
   "source": [
    "Les équations de Lotka-Volterra, ou “modèle proie-prédateur”, sont couramment\n",
    "utilisées pour décrire la dynamique de systèmes biologiques dans lesquels un\n",
    "prédateur et sa proie interagissent dans un milieu commun. Elles ont été proposées\n",
    "indépendamment par A. J. Lotka en 1925 et V. Volterra en 1926 et s’écrivent de\n",
    "la manière suivante :\n",
    "\n",
    "$$\\dot{x_1} = x_1(\\alpha - \\beta x_2)$$\n",
    "\n",
    "$$\\dot{x_2} = -x_2(\\gamma - \\delta x_1)$$\n",
    "\n",
    "où $x_1$ et $x_2$ désignent le nombre (positif) de proies et de prédateurs respectivement\n",
    "et $\\alpha$, $\\beta$, $\\gamma$, $\\delta$ sont des paramètres strictement positifs.\n"
   ]
  },
  {
   "cell_type": "markdown",
   "metadata": {},
   "source": [
    "### Deux points d'équilibre"
   ]
  },
  {
   "cell_type": "markdown",
   "metadata": {},
   "source": [
    "#### Question 1\n",
    "\n",
    "**Q** : Donner une interprétation physique à chaque terme de la dynamique.\n",
    "Montrer qu’il existe deux points d’équilibre $(0, 0)$ et $\\bar{x}\\in \\mathbb{R}_{>0} \\times \\mathbb{R}_{>0}$. Que\n",
    "peut-on dire de leur stabilité à ce stade ?\n",
    "\n",
    "**R** : **Interprétation des termes** :\n",
    "- $\\alpha$ correspond à la reproduction des proies\n",
    "- $\\beta$ correspond à la mort des proies due aux prédateurs\n",
    "- $\\gamma$ correspond à la mort des prédateurs sans nourriture\n",
    "- $\\delta$ correspond à la reproduction des prédateurs grâce aux proies mangées\n",
    "\n",
    "**Quels points d'équilibre ?** Puis, nous remarquons que $(0,0)$ est bien un point d'équilibre : en se plaçant à $x_1 = 0$ et $x_2 = 0$, on obtient bien $\\dot{x_1} = 0$ et $\\dot{x_2} = 0$. Trouvons maintenant un autre point d'équilibre qui n'est pas $(0,0)$. Un des deux est donc non nul, supposons que c'est $x_1$. Alors, pour avoir $\\dot{x_1} = 0$, nécessairement $\\alpha - \\beta x_2 = 0$ et donc :\n",
    "$$x_2 = \\frac{\\alpha}{\\beta}$$\n",
    "On en déduit que $x_2 > 0$. Ceci nous permet, comme $\\dot{x_2} = 0$ et que $x_2 \\neq 0$, de trouver que $\\delta - \\gamma x_1 = 0$ et donc :\n",
    "$$x_1 = \\frac{\\gamma}{\\delta}$$\n",
    "Ainsi, on a aussi $x_1 > 0$. On a notre deuxième point d'équilibre, $\\bar{x}\\in \\mathbb{R}_{>0} \\times \\mathbb{R}_{>0}$.\n",
    "\n",
    "**Stabilité ?** On pose $f(x_1,x_2) = (x_1(\\alpha - \\beta x_2),-x_2(\\gamma - \\delta x_1))$. $f$ est clairement dérivable par rapport à ses deux variables, on a alors sa jacobienne:\n",
    "\n",
    "$$ J_f(x_1,x_2) = \\begin{pmatrix} \\alpha - \\beta x_2 & - \\beta x_1 \\\\ \\delta x_2 & - \\gamma + \\delta x_1 \\end{pmatrix} $$\n",
    "En se plaçant en $(0,0)$ :\n",
    "$$J_f(0,0) = \\begin{pmatrix} \\alpha & 0 \\\\ 0 & - \\gamma \\end{pmatrix}$$\n",
    "Comme $\\alpha > 0$ et $-\\gamma < 0$ sont les valeurs propres de cette matrice, et qu'une des 2 est strictement positive, on en déduit que $(0,0)$ n'est pas localement (et donc encore moins globalement) stable.\n",
    "Cependant :\n",
    "$$J_f(\\bar{x}) = \\begin{pmatrix} 0 & - \\beta \\frac{\\gamma}{\\delta} \\\\ \\delta \\frac{\\alpha}{\\beta} & 0 \\end{pmatrix}$$\n",
    "Son polynôme caractéristique est :\n",
    "$$\\chi_{J_f(\\bar{x})}(x) = \\begin{vmatrix} x &  \\beta \\frac{\\gamma}{\\delta} \\\\ -\\delta \\frac{\\alpha}{\\beta} & x \\end{vmatrix} = x^2 + \\alpha\\gamma$$\n",
    "Ses racines sont donc $r_{\\pm} = \\pm i\\sqrt{\\alpha\\gamma}$, et on ne peut donc déterminer le stabilité locale ou globale de $\\bar{x}$."
   ]
  },
  {
   "cell_type": "markdown",
   "metadata": {},
   "source": []
  }
 ],
 "metadata": {
  "kernelspec": {
   "display_name": "Python 3",
   "language": "python",
   "name": "python3"
  },
  "language_info": {
   "codemirror_mode": {
    "name": "ipython",
    "version": 3
   },
   "file_extension": ".py",
   "mimetype": "text/x-python",
   "name": "python",
   "nbconvert_exporter": "python",
   "pygments_lexer": "ipython3",
   "version": "3.6.5"
  }
 },
 "nbformat": 4,
 "nbformat_minor": 2
}
