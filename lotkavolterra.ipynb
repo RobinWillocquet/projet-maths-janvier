{
 "cells": [
  {
   "cell_type": "markdown",
   "metadata": {},
   "source": [
    "# Equations de Lotka-Volterra"
   ]
  },
  {
   "cell_type": "markdown",
   "metadata": {},
   "source": [
    "## Importation des modules nécessaires"
   ]
  },
  {
   "cell_type": "markdown",
   "metadata": {},
   "source": [
    "Nous allons d'abord commencer par importer les différents modules dont nous aurons besoin pour simuler ces solutions."
   ]
  },
  {
   "cell_type": "code",
   "execution_count": 1,
   "metadata": {},
   "outputs": [],
   "source": [
    "import numpy as np\n",
    "import matplotlib.pyplot as plt\n",
    "import autograd as atg"
   ]
  },
  {
   "cell_type": "markdown",
   "metadata": {},
   "source": [
    "Puis, nous allons aussi importer la fonction `display_contour` que nous avons vue dans le projet d'octobre : celle-ci sera fort utile pour la question 5 !"
   ]
  },
  {
   "cell_type": "code",
   "execution_count": 7,
   "metadata": {},
   "outputs": [],
   "source": [
    "plt.rcParams['figure.figsize'] = [10, 10]\n",
    "from IPython.display import display\n",
    "\n",
    "def display_contour(f, x, y, levels):\n",
    "    X, Y = np.meshgrid(x, y)\n",
    "    Z = f(X, Y)\n",
    "    fig, ax = plt.subplots()\n",
    "    contour_set = plt.contour(\n",
    "        X, Y, Z, cmap = 'inferno', \n",
    "        levels=levels \n",
    "    )\n",
    "    ax.clabel(contour_set)\n",
    "    plt.grid(True)\n",
    "    plt.xlabel(\"$x_1$\") \n",
    "    plt.ylabel(\"$x_2$\")\n",
    "    plt.gca().set_aspect(\"equal\")"
   ]
  },
  {
   "cell_type": "code",
   "execution_count": null,
   "metadata": {},
   "outputs": [],
   "source": []
  }
 ],
 "metadata": {
  "kernelspec": {
   "display_name": "Python 3",
   "language": "python",
   "name": "python3"
  },
  "language_info": {
   "codemirror_mode": {
    "name": "ipython",
    "version": 3
   },
   "file_extension": ".py",
   "mimetype": "text/x-python",
   "name": "python",
   "nbconvert_exporter": "python",
   "pygments_lexer": "ipython3",
   "version": "3.6.5"
  }
 },
 "nbformat": 4,
 "nbformat_minor": 2
}
